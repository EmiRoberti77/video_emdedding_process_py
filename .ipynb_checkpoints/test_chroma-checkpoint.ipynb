{
 "cells": [
  {
   "cell_type": "code",
   "execution_count": 7,
   "id": "977795bd-4fd7-433b-91d2-edb665c8efd8",
   "metadata": {},
   "outputs": [],
   "source": [
    "import chromadb\n",
    "import os\n",
    "print(os.listdir(\"./src/chroma_store\"))\n",
    "\n",
    "# For persistent client:\n",
    "client = chromadb.PersistentClient(path=\"./src/chroma_store\")\n",
    "\n",
    "# For in-memory:\n",
    "# client = chromadb.Client()\n",
    "\n",
    "collections = client.list_collections()\n",
    "\n",
    "for col in collections:\n",
    "    print(f\"📦 Collection name: {col.name}\")\n"
   ]
  },
  {
   "cell_type": "code",
   "execution_count": null,
   "id": "336b0236-442f-4a89-b8e4-7b09a1dee1e7",
   "metadata": {},
   "outputs": [],
   "source": []
  }
 ],
 "metadata": {
  "kernelspec": {
   "display_name": "Python 3 (ipykernel)",
   "language": "python",
   "name": "python3"
  },
  "language_info": {
   "codemirror_mode": {
    "name": "ipython",
    "version": 3
   },
   "file_extension": ".py",
   "mimetype": "text/x-python",
   "name": "python",
   "nbconvert_exporter": "python",
   "pygments_lexer": "ipython3",
   "version": "3.11.9"
  }
 },
 "nbformat": 4,
 "nbformat_minor": 5
}
