{
 "cells": [
  {
   "cell_type": "code",
   "execution_count": 1,
   "id": "977795bd-4fd7-433b-91d2-edb665c8efd8",
   "metadata": {},
   "outputs": [
    {
     "name": "stdout",
     "output_type": "stream",
     "text": [
      "['23e7b2a1-e2a1-4707-b08f-9ed630a76950', 'chroma.sqlite3']\n",
      "Collection: audio_video_vectors\n",
      "{'ids': ['8d7bb7c7-1554-49e1-b8a0-3224d59fbb01', 'd8f5f422-fad4-4aec-b607-4a260f30a840', 'f3565dfa-c233-4a60-b85e-0ab538ec5cde', '254a8c8b-385b-4540-8410-63fa927ff74c', '2ac47596-1c7e-4a11-91dd-81bfc7047ce9', '3b841b1a-cad8-4f61-8fba-26d178ccb08a', '56138516-cb6a-423a-9488-d3ad9668ab04'], 'embeddings': array([[ 0.05618978,  0.02022442,  0.03884064, ..., -0.04378709,\n",
      "        -0.03250527, -0.01903045],\n",
      "       [ 0.07901741,  0.01778311,  0.01645497, ..., -0.02924707,\n",
      "         0.00318055, -0.01270122],\n",
      "       [ 0.04452489, -0.02883876,  0.01377927, ..., -0.02528108,\n",
      "         0.00596316,  0.01726283],\n",
      "       ...,\n",
      "       [ 0.05272923,  0.02244537,  0.02015803, ..., -0.03314637,\n",
      "         0.0091293 ,  0.01100198],\n",
      "       [ 0.0691503 , -0.04958943, -0.0122718 , ..., -0.02694906,\n",
      "        -0.00238233, -0.01330932],\n",
      "       [ 0.04776765, -0.00415995,  0.00188001, ..., -0.01893807,\n",
      "        -0.00452891, -0.00207575]], shape=(7, 1536)), 'documents': [None, None, None, None, None, None, None], 'uris': None, 'included': ['metadatas', 'documents', 'embeddings'], 'data': None, 'metadatas': [{'video_file': './video/sample.mp4', 'frame_file': 'output/frame_0.jpg', 'time_code': 0, 'frame_type': 'image', 'text': 'Governor thanks for being with us on the program It s great to have you here together in our home state if not together at least both here in the Lone Star State Tell me what we re seeing down there at the border We ve heard the numbers down 90 literally approaching the Southern border from the Mexican side with not their Mexican or Central American or Haitian or wherever they are from What are you seeing approach America s Southern border I ve never seen such a massive drop in illegal immigration ever You know I think President Trump had the best line when he said that to secure the border to change the system we didn t need new laws we just needed a new president And once he got elected president it led to a sudden halt and people crossing the border illegally The downturn has been so dramatic We re just seeing a trickle of people that you re showing those films those films or under the bottom administration There s just a trickle of people that they and I am told that people who do make it across most of them are actually returned'}, {'video_file': './video/sample.mp4', 'frame_type': 'image', 'frame_file': 'output/frame_0.jpg', 'time_code': 0, 'text': 'There s only been a few dozen or so that are even allowed to stay in the United States And that leads to exactly what Secretary Noom was talking about And that is when people go through the time the money and the horrors of making the way to the United States border and then get here only to rely there being sent back That deterres others from coming here in the future We re seeing the power of deterrence and incentive Rest assured Governor those videos on our screen are now our data and the audience well understands what s happened with illegal immigration over the last three to four months I do want to ask you not unlike illegal immigration about a couple of issues here in Texas that becomes symbolic perhaps of issues for the rest of the nation You recently signed a bill essentially banning capital gains tax here in the state That s a big movement That is a big moment What does it mean Does that mean any stock transactions We don t have income tax in the state of Texas Is it property taxes How do you how does it work We re'}, {'frame_file': 'output/frame_0.jpg', 'video_file': './video/sample.mp4', 'text': 'going to ban capital gains tax in Texas Well so the latest iteration of what we have constitutionally and it s not a law it s a constitutional amendment And what that means will for the rest of your life in the state of Texas it would require two thirds vote to change that And that s not going to happen So we ve constitutionally banned in income tax a now capital of gains tax and then a transaction tax You re up in the Dallas area You know what s going on up there where we have all the stock exchanges the New York Stock Exchange the NASDAQ and now the Texas Stock Exchange and now with the ban on a transaction tax that makes Texas the most hospitable home to businesses as well as especially stock exchange businesses So it s constitutionally setting us up for the future no income tax no capital gains tax making it as you mentioned the y all street movement here in Dallas of the Texas Stock Exchange even more appealing I want to ask you about Epic City Many of our viewers know it s something we ve covered in depth here', 'time_code': 0, 'frame_type': 'image'}, {'video_file': './video/sample.mp4', 'frame_type': 'image', 'time_code': 0, 'text': 'on the Wilcane Show You put out a notice about a week ago suggesting all construction was halted I do have to press you on this governor You ve got a little bit of blowback on this I did have a guest to say there is no construction at Epic City Epic City is the Islamic development centered around a mosque They say that it is open to believers of all faiths They say they will not implement Sharia law It is being investigated by you Attorney General Ken Paxton by the DOJ But what has been done is my understanding no construction has been halted because no construction has started at Epic City Sure Easy to clarify will First of all those images you re showing they are images that people have seen on social media And people have been led to believe that that actually exists And those are nothing more than images on a piece of paper that don t exist at reality And the area they re seeking to develop is nothing more than an empty field right now That s that however will is as you would know as any economic developer would know when', 'frame_file': 'output/frame_0.jpg'}, {'text': 'you develop a large tract of land you don t just immediately start turning dirt you go through the promotion process and then the permitting process And those are areas where Texas has stepped in to put a stop to this And the promotion process what we found are allegations of illegality And those are being investigated by the Texas Rangers by other authorities in the state of Texas So much so will that the original promotion of this project had to be changed and we believe change because of illegal conduct in the past Second thing with the regard of the permits Listen the Texas Commission on Environmental Quality and State of Texas said that no authority exists for any construction to go forward when they do make a decision to move forward There is a cease indicist order by a state agency as well as alleged violations of the Texas Fair Housing Act And then in addition to that we have the Texas Attorney General as well as now the United States Department of Justice all conducting investigations to ensure this project is stuck dead in its tracks OK I would love to have a deeper conversation with', 'time_code': 0, 'frame_file': 'output/frame_0.jpg', 'frame_type': 'image', 'video_file': './video/sample.mp4'}, {'text': 'you longer conversation with you about this in the future There s other developments that I think are worth discussion And this is happening not just in Texas It s been highlighted to me as well in Michigan and other places So I think it s worthy of a deeper discussion But for the time we have today I just want to ask you one more thing And I haven t gotten to speak to you Since she sort of made news saying this And I don t mean this gratuitously but I think I wanted to ask your reaction Congresswoman Jasmine Crocket from Dallas has on a stage referred to you as Governor Hot Wheels And I m just curious how does that make you feel Well to be honest it makes me feel good about the prospects of Republicans winning elections because what you can see by comments like that is Democrats that they have no policy they have no ideas They re devoid of all of those And all they can do is raise controversial claims like this What that means is they are not delivering anything for their constituents other than hot topics And what we', 'frame_file': 'output/frame_0.jpg', 'frame_type': 'image', 'video_file': './video/sample.mp4', 'time_code': 0}, {'text': 'are going to be able to do is Republicans in the Texas we re going to be able to win elections because the Jasmine Crocket said that Democrats who are acting like they re going to lose voters and they re going to lose elections And that s a suspicion is it s not just Texas but we all across the United States Governor Abbott thanks so much for being with us here today My pleasure Hey it s Will Kane Click here to subscribe to the Fox News channel on YouTube It s the best way to get our latest interviews and highlights And click to subscribe to the Will Kane podcast for full episodes right now', 'frame_file': 'output/frame_0.jpg', 'video_file': './video/sample.mp4', 'time_code': 0, 'frame_type': 'image'}]}\n"
     ]
    }
   ],
   "source": [
    "import chromadb\n",
    "import os\n",
    "print(os.listdir(\"./src/chroma_store\"))\n",
    "# For persistent client:\n",
    "client = chromadb.PersistentClient(path=\"./src/chroma_store\")\n",
    "collection = client.get_or_create_collection(name=\"audio_video_vectors\")\n",
    "print(f\"Collection: {collection.name}\")\n",
    "print(collection.peek())  # Try to see any data inside)"
   ]
  },
  {
   "cell_type": "code",
   "execution_count": 2,
   "id": "bc1711c6-849e-4583-8e8e-482978349d0a",
   "metadata": {},
   "outputs": [
    {
     "name": "stdout",
     "output_type": "stream",
     "text": [
      "{'ids': ['8d7bb7c7-1554-49e1-b8a0-3224d59fbb01', 'd8f5f422-fad4-4aec-b607-4a260f30a840', 'f3565dfa-c233-4a60-b85e-0ab538ec5cde', '254a8c8b-385b-4540-8410-63fa927ff74c', '2ac47596-1c7e-4a11-91dd-81bfc7047ce9', '3b841b1a-cad8-4f61-8fba-26d178ccb08a', '56138516-cb6a-423a-9488-d3ad9668ab04'], 'embeddings': array([[ 0.05618978,  0.02022442,  0.03884064, ..., -0.04378709,\n",
      "        -0.03250527, -0.01903045],\n",
      "       [ 0.07901741,  0.01778311,  0.01645497, ..., -0.02924707,\n",
      "         0.00318055, -0.01270122],\n",
      "       [ 0.04452489, -0.02883876,  0.01377927, ..., -0.02528108,\n",
      "         0.00596316,  0.01726283],\n",
      "       ...,\n",
      "       [ 0.05272923,  0.02244537,  0.02015803, ..., -0.03314637,\n",
      "         0.0091293 ,  0.01100198],\n",
      "       [ 0.0691503 , -0.04958943, -0.0122718 , ..., -0.02694906,\n",
      "        -0.00238233, -0.01330932],\n",
      "       [ 0.04776765, -0.00415995,  0.00188001, ..., -0.01893807,\n",
      "        -0.00452891, -0.00207575]], shape=(7, 1536)), 'documents': [None, None, None, None, None, None, None], 'uris': None, 'included': ['metadatas', 'documents', 'embeddings'], 'data': None, 'metadatas': [{'frame_type': 'image', 'video_file': './video/sample.mp4', 'time_code': 0, 'text': 'Governor thanks for being with us on the program It s great to have you here together in our home state if not together at least both here in the Lone Star State Tell me what we re seeing down there at the border We ve heard the numbers down 90 literally approaching the Southern border from the Mexican side with not their Mexican or Central American or Haitian or wherever they are from What are you seeing approach America s Southern border I ve never seen such a massive drop in illegal immigration ever You know I think President Trump had the best line when he said that to secure the border to change the system we didn t need new laws we just needed a new president And once he got elected president it led to a sudden halt and people crossing the border illegally The downturn has been so dramatic We re just seeing a trickle of people that you re showing those films those films or under the bottom administration There s just a trickle of people that they and I am told that people who do make it across most of them are actually returned', 'frame_file': 'output/frame_0.jpg'}, {'frame_file': 'output/frame_0.jpg', 'time_code': 0, 'frame_type': 'image', 'text': 'There s only been a few dozen or so that are even allowed to stay in the United States And that leads to exactly what Secretary Noom was talking about And that is when people go through the time the money and the horrors of making the way to the United States border and then get here only to rely there being sent back That deterres others from coming here in the future We re seeing the power of deterrence and incentive Rest assured Governor those videos on our screen are now our data and the audience well understands what s happened with illegal immigration over the last three to four months I do want to ask you not unlike illegal immigration about a couple of issues here in Texas that becomes symbolic perhaps of issues for the rest of the nation You recently signed a bill essentially banning capital gains tax here in the state That s a big movement That is a big moment What does it mean Does that mean any stock transactions We don t have income tax in the state of Texas Is it property taxes How do you how does it work We re', 'video_file': './video/sample.mp4'}, {'time_code': 0, 'text': 'going to ban capital gains tax in Texas Well so the latest iteration of what we have constitutionally and it s not a law it s a constitutional amendment And what that means will for the rest of your life in the state of Texas it would require two thirds vote to change that And that s not going to happen So we ve constitutionally banned in income tax a now capital of gains tax and then a transaction tax You re up in the Dallas area You know what s going on up there where we have all the stock exchanges the New York Stock Exchange the NASDAQ and now the Texas Stock Exchange and now with the ban on a transaction tax that makes Texas the most hospitable home to businesses as well as especially stock exchange businesses So it s constitutionally setting us up for the future no income tax no capital gains tax making it as you mentioned the y all street movement here in Dallas of the Texas Stock Exchange even more appealing I want to ask you about Epic City Many of our viewers know it s something we ve covered in depth here', 'frame_file': 'output/frame_0.jpg', 'frame_type': 'image', 'video_file': './video/sample.mp4'}, {'frame_type': 'image', 'text': 'on the Wilcane Show You put out a notice about a week ago suggesting all construction was halted I do have to press you on this governor You ve got a little bit of blowback on this I did have a guest to say there is no construction at Epic City Epic City is the Islamic development centered around a mosque They say that it is open to believers of all faiths They say they will not implement Sharia law It is being investigated by you Attorney General Ken Paxton by the DOJ But what has been done is my understanding no construction has been halted because no construction has started at Epic City Sure Easy to clarify will First of all those images you re showing they are images that people have seen on social media And people have been led to believe that that actually exists And those are nothing more than images on a piece of paper that don t exist at reality And the area they re seeking to develop is nothing more than an empty field right now That s that however will is as you would know as any economic developer would know when', 'video_file': './video/sample.mp4', 'time_code': 0, 'frame_file': 'output/frame_0.jpg'}, {'text': 'you develop a large tract of land you don t just immediately start turning dirt you go through the promotion process and then the permitting process And those are areas where Texas has stepped in to put a stop to this And the promotion process what we found are allegations of illegality And those are being investigated by the Texas Rangers by other authorities in the state of Texas So much so will that the original promotion of this project had to be changed and we believe change because of illegal conduct in the past Second thing with the regard of the permits Listen the Texas Commission on Environmental Quality and State of Texas said that no authority exists for any construction to go forward when they do make a decision to move forward There is a cease indicist order by a state agency as well as alleged violations of the Texas Fair Housing Act And then in addition to that we have the Texas Attorney General as well as now the United States Department of Justice all conducting investigations to ensure this project is stuck dead in its tracks OK I would love to have a deeper conversation with', 'frame_type': 'image', 'video_file': './video/sample.mp4', 'frame_file': 'output/frame_0.jpg', 'time_code': 0}, {'frame_file': 'output/frame_0.jpg', 'frame_type': 'image', 'video_file': './video/sample.mp4', 'text': 'you longer conversation with you about this in the future There s other developments that I think are worth discussion And this is happening not just in Texas It s been highlighted to me as well in Michigan and other places So I think it s worthy of a deeper discussion But for the time we have today I just want to ask you one more thing And I haven t gotten to speak to you Since she sort of made news saying this And I don t mean this gratuitously but I think I wanted to ask your reaction Congresswoman Jasmine Crocket from Dallas has on a stage referred to you as Governor Hot Wheels And I m just curious how does that make you feel Well to be honest it makes me feel good about the prospects of Republicans winning elections because what you can see by comments like that is Democrats that they have no policy they have no ideas They re devoid of all of those And all they can do is raise controversial claims like this What that means is they are not delivering anything for their constituents other than hot topics And what we', 'time_code': 0}, {'frame_file': 'output/frame_0.jpg', 'video_file': './video/sample.mp4', 'frame_type': 'image', 'time_code': 0, 'text': 'are going to be able to do is Republicans in the Texas we re going to be able to win elections because the Jasmine Crocket said that Democrats who are acting like they re going to lose voters and they re going to lose elections And that s a suspicion is it s not just Texas but we all across the United States Governor Abbott thanks so much for being with us here today My pleasure Hey it s Will Kane Click here to subscribe to the Fox News channel on YouTube It s the best way to get our latest interviews and highlights And click to subscribe to the Will Kane podcast for full episodes right now'}]}\n"
     ]
    }
   ],
   "source": [
    "peeked = collection.peek()\n",
    "print(peeked)"
   ]
  },
  {
   "cell_type": "code",
   "execution_count": 22,
   "id": "7a8fe129-5271-4059-a62a-51ca43871275",
   "metadata": {},
   "outputs": [
    {
     "name": "stdout",
     "output_type": "stream",
     "text": [
      "['23e7b2a1-e2a1-4707-b08f-9ed630a76950', 'chroma.sqlite3']\n",
      "audio_video_vectors\n",
      "peek start\n",
      "{'ids': ['8d7bb7c7-1554-49e1-b8a0-3224d59fbb01', 'd8f5f422-fad4-4aec-b607-4a260f30a840', 'f3565dfa-c233-4a60-b85e-0ab538ec5cde', '254a8c8b-385b-4540-8410-63fa927ff74c', '2ac47596-1c7e-4a11-91dd-81bfc7047ce9', '3b841b1a-cad8-4f61-8fba-26d178ccb08a', '56138516-cb6a-423a-9488-d3ad9668ab04'], 'embeddings': array([[ 0.05618978,  0.02022442,  0.03884064, ..., -0.04378709,\n",
      "        -0.03250527, -0.01903045],\n",
      "       [ 0.07901741,  0.01778311,  0.01645497, ..., -0.02924707,\n",
      "         0.00318055, -0.01270122],\n",
      "       [ 0.04452489, -0.02883876,  0.01377927, ..., -0.02528108,\n",
      "         0.00596316,  0.01726283],\n",
      "       ...,\n",
      "       [ 0.05272923,  0.02244537,  0.02015803, ..., -0.03314637,\n",
      "         0.0091293 ,  0.01100198],\n",
      "       [ 0.0691503 , -0.04958943, -0.0122718 , ..., -0.02694906,\n",
      "        -0.00238233, -0.01330932],\n",
      "       [ 0.04776765, -0.00415995,  0.00188001, ..., -0.01893807,\n",
      "        -0.00452891, -0.00207575]], shape=(7, 1536)), 'documents': [None, None, None, None, None, None, None], 'uris': None, 'included': ['metadatas', 'documents', 'embeddings'], 'data': None, 'metadatas': [{'frame_file': 'output/frame_0.jpg', 'text': 'Governor thanks for being with us on the program It s great to have you here together in our home state if not together at least both here in the Lone Star State Tell me what we re seeing down there at the border We ve heard the numbers down 90 literally approaching the Southern border from the Mexican side with not their Mexican or Central American or Haitian or wherever they are from What are you seeing approach America s Southern border I ve never seen such a massive drop in illegal immigration ever You know I think President Trump had the best line when he said that to secure the border to change the system we didn t need new laws we just needed a new president And once he got elected president it led to a sudden halt and people crossing the border illegally The downturn has been so dramatic We re just seeing a trickle of people that you re showing those films those films or under the bottom administration There s just a trickle of people that they and I am told that people who do make it across most of them are actually returned', 'video_file': './video/sample.mp4', 'frame_type': 'image', 'time_code': 0}, {'frame_type': 'image', 'frame_file': 'output/frame_0.jpg', 'time_code': 0, 'text': 'There s only been a few dozen or so that are even allowed to stay in the United States And that leads to exactly what Secretary Noom was talking about And that is when people go through the time the money and the horrors of making the way to the United States border and then get here only to rely there being sent back That deterres others from coming here in the future We re seeing the power of deterrence and incentive Rest assured Governor those videos on our screen are now our data and the audience well understands what s happened with illegal immigration over the last three to four months I do want to ask you not unlike illegal immigration about a couple of issues here in Texas that becomes symbolic perhaps of issues for the rest of the nation You recently signed a bill essentially banning capital gains tax here in the state That s a big movement That is a big moment What does it mean Does that mean any stock transactions We don t have income tax in the state of Texas Is it property taxes How do you how does it work We re', 'video_file': './video/sample.mp4'}, {'frame_file': 'output/frame_0.jpg', 'text': 'going to ban capital gains tax in Texas Well so the latest iteration of what we have constitutionally and it s not a law it s a constitutional amendment And what that means will for the rest of your life in the state of Texas it would require two thirds vote to change that And that s not going to happen So we ve constitutionally banned in income tax a now capital of gains tax and then a transaction tax You re up in the Dallas area You know what s going on up there where we have all the stock exchanges the New York Stock Exchange the NASDAQ and now the Texas Stock Exchange and now with the ban on a transaction tax that makes Texas the most hospitable home to businesses as well as especially stock exchange businesses So it s constitutionally setting us up for the future no income tax no capital gains tax making it as you mentioned the y all street movement here in Dallas of the Texas Stock Exchange even more appealing I want to ask you about Epic City Many of our viewers know it s something we ve covered in depth here', 'video_file': './video/sample.mp4', 'time_code': 0, 'frame_type': 'image'}, {'time_code': 0, 'frame_file': 'output/frame_0.jpg', 'video_file': './video/sample.mp4', 'frame_type': 'image', 'text': 'on the Wilcane Show You put out a notice about a week ago suggesting all construction was halted I do have to press you on this governor You ve got a little bit of blowback on this I did have a guest to say there is no construction at Epic City Epic City is the Islamic development centered around a mosque They say that it is open to believers of all faiths They say they will not implement Sharia law It is being investigated by you Attorney General Ken Paxton by the DOJ But what has been done is my understanding no construction has been halted because no construction has started at Epic City Sure Easy to clarify will First of all those images you re showing they are images that people have seen on social media And people have been led to believe that that actually exists And those are nothing more than images on a piece of paper that don t exist at reality And the area they re seeking to develop is nothing more than an empty field right now That s that however will is as you would know as any economic developer would know when'}, {'video_file': './video/sample.mp4', 'frame_file': 'output/frame_0.jpg', 'text': 'you develop a large tract of land you don t just immediately start turning dirt you go through the promotion process and then the permitting process And those are areas where Texas has stepped in to put a stop to this And the promotion process what we found are allegations of illegality And those are being investigated by the Texas Rangers by other authorities in the state of Texas So much so will that the original promotion of this project had to be changed and we believe change because of illegal conduct in the past Second thing with the regard of the permits Listen the Texas Commission on Environmental Quality and State of Texas said that no authority exists for any construction to go forward when they do make a decision to move forward There is a cease indicist order by a state agency as well as alleged violations of the Texas Fair Housing Act And then in addition to that we have the Texas Attorney General as well as now the United States Department of Justice all conducting investigations to ensure this project is stuck dead in its tracks OK I would love to have a deeper conversation with', 'frame_type': 'image', 'time_code': 0}, {'frame_type': 'image', 'video_file': './video/sample.mp4', 'frame_file': 'output/frame_0.jpg', 'time_code': 0, 'text': 'you longer conversation with you about this in the future There s other developments that I think are worth discussion And this is happening not just in Texas It s been highlighted to me as well in Michigan and other places So I think it s worthy of a deeper discussion But for the time we have today I just want to ask you one more thing And I haven t gotten to speak to you Since she sort of made news saying this And I don t mean this gratuitously but I think I wanted to ask your reaction Congresswoman Jasmine Crocket from Dallas has on a stage referred to you as Governor Hot Wheels And I m just curious how does that make you feel Well to be honest it makes me feel good about the prospects of Republicans winning elections because what you can see by comments like that is Democrats that they have no policy they have no ideas They re devoid of all of those And all they can do is raise controversial claims like this What that means is they are not delivering anything for their constituents other than hot topics And what we'}, {'frame_file': 'output/frame_0.jpg', 'frame_type': 'image', 'text': 'are going to be able to do is Republicans in the Texas we re going to be able to win elections because the Jasmine Crocket said that Democrats who are acting like they re going to lose voters and they re going to lose elections And that s a suspicion is it s not just Texas but we all across the United States Governor Abbott thanks so much for being with us here today My pleasure Hey it s Will Kane Click here to subscribe to the Fox News channel on YouTube It s the best way to get our latest interviews and highlights And click to subscribe to the Will Kane podcast for full episodes right now', 'time_code': 0, 'video_file': './video/sample.mp4'}]}\n",
      "peek end\n",
      "RESULTS_START\n",
      "{'ids': [['3b841b1a-cad8-4f61-8fba-26d178ccb08a', 'd8f5f422-fad4-4aec-b607-4a260f30a840']], 'embeddings': None, 'documents': [[None, None]], 'uris': None, 'included': ['metadatas', 'documents', 'distances'], 'data': None, 'metadatas': [[{'text': 'you longer conversation with you about this in the future There s other developments that I think are worth discussion And this is happening not just in Texas It s been highlighted to me as well in Michigan and other places So I think it s worthy of a deeper discussion But for the time we have today I just want to ask you one more thing And I haven t gotten to speak to you Since she sort of made news saying this And I don t mean this gratuitously but I think I wanted to ask your reaction Congresswoman Jasmine Crocket from Dallas has on a stage referred to you as Governor Hot Wheels And I m just curious how does that make you feel Well to be honest it makes me feel good about the prospects of Republicans winning elections because what you can see by comments like that is Democrats that they have no policy they have no ideas They re devoid of all of those And all they can do is raise controversial claims like this What that means is they are not delivering anything for their constituents other than hot topics And what we', 'frame_type': 'image', 'video_file': './video/sample.mp4', 'frame_file': 'output/frame_0.jpg', 'time_code': 0}, {'time_code': 0, 'text': 'There s only been a few dozen or so that are even allowed to stay in the United States And that leads to exactly what Secretary Noom was talking about And that is when people go through the time the money and the horrors of making the way to the United States border and then get here only to rely there being sent back That deterres others from coming here in the future We re seeing the power of deterrence and incentive Rest assured Governor those videos on our screen are now our data and the audience well understands what s happened with illegal immigration over the last three to four months I do want to ask you not unlike illegal immigration about a couple of issues here in Texas that becomes symbolic perhaps of issues for the rest of the nation You recently signed a bill essentially banning capital gains tax here in the state That s a big movement That is a big moment What does it mean Does that mean any stock transactions We don t have income tax in the state of Texas Is it property taxes How do you how does it work We re', 'frame_file': 'output/frame_0.jpg', 'video_file': './video/sample.mp4', 'frame_type': 'image'}]], 'distances': [[0.4989333152770996, 0.53997802734375]]}\n",
      "RESULT_END\n"
     ]
    }
   ],
   "source": [
    "from openai import OpenAI\n",
    "from dotenv import load_dotenv\n",
    "import os\n",
    "load_dotenv()\n",
    "import os\n",
    "print(os.listdir(\"./src/chroma_store\"))\n",
    "# For persistent client:\n",
    "client = chromadb.PersistentClient(path=\"./src/chroma_store\")\n",
    "collection = client.get_or_create_collection(name=\"audio_video_vectors\")\n",
    "\n",
    "print(collection.name)\n",
    "print(\"peek start\")\n",
    "print(collection.peek())\n",
    "print(\"peek end\")\n",
    "\n",
    "client = OpenAI(api_key=os.getenv(\"OPENAI_API_KEY\"))\n",
    "response = client.embeddings.create(\n",
    "    model=\"text-embedding-3-small\",\n",
    "    input=[\"discussion And this is happening not just in Texas It s been highlighted to me as well in Michigan and other places\"]\n",
    ")\n",
    "\n",
    "\n"
   ]
  },
  {
   "cell_type": "code",
   "execution_count": 13,
   "id": "d8e1a467-d309-40a3-9ffd-eade4b0a67f9",
   "metadata": {},
   "outputs": [
    {
     "name": "stdout",
     "output_type": "stream",
     "text": [
      "{'ids': [[]], 'embeddings': None, 'documents': [[]], 'uris': None, 'included': ['metadatas', 'documents', 'distances'], 'data': None, 'metadatas': [[]], 'distances': [[]]}\n"
     ]
    }
   ],
   "source": [
    "query_vector = response.data[0].embedding\n",
    "\n",
    "results = collection.query(\n",
    "    query_embeddings=[query_vector],\n",
    "    n_results=2\n",
    ")"
   ]
  },
  {
   "cell_type": "code",
   "execution_count": null,
   "id": "6c1ced8d-c623-4ae3-8064-2de8507277ce",
   "metadata": {},
   "outputs": [],
   "source": [
    "print(\"RESULTS_START\")\n",
    "print(results)\n",
    "print(\"RESULT_END\")\n",
    "print(results)"
   ]
  }
 ],
 "metadata": {
  "kernelspec": {
   "display_name": "Python 3 (ipykernel)",
   "language": "python",
   "name": "python3"
  },
  "language_info": {
   "codemirror_mode": {
    "name": "ipython",
    "version": 3
   },
   "file_extension": ".py",
   "mimetype": "text/x-python",
   "name": "python",
   "nbconvert_exporter": "python",
   "pygments_lexer": "ipython3",
   "version": "3.11.9"
  }
 },
 "nbformat": 4,
 "nbformat_minor": 5
}
