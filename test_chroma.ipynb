{
 "cells": [
  {
   "cell_type": "code",
   "execution_count": 16,
   "id": "977795bd-4fd7-433b-91d2-edb665c8efd8",
   "metadata": {},
   "outputs": [
    {
     "name": "stdout",
     "output_type": "stream",
     "text": [
      "['6ec7fa90-da8d-429f-a0a1-8ec3f626a7df', 'chroma.sqlite3']\n",
      "Collection: audio_video_vectors\n",
      "{'ids': [], 'embeddings': array([], dtype=float64), 'documents': [], 'uris': None, 'included': ['metadatas', 'documents', 'embeddings'], 'data': None, 'metadatas': []}\n"
     ]
    }
   ],
   "source": [
    "import chromadb\n",
    "import os\n",
    "print(os.listdir(\"./src/chroma_store\"))\n",
    "# For persistent client:\n",
    "client = chromadb.PersistentClient(path=\"./src/chroma_store\")\n",
    "collection = client.get_or_create_collection(name=\"audio_video_vectors\")\n",
    "print(f\"Collection: {collection.name}\")\n",
    "print(collection.peek())  # Try to see any data inside)"
   ]
  },
  {
   "cell_type": "code",
   "execution_count": 11,
   "id": "336b0236-442f-4a89-b8e4-7b09a1dee1e7",
   "metadata": {},
   "outputs": [],
   "source": [
    "collection.add(\n",
    "    ids=[\"test-id-1\"],\n",
    "    embeddings=[[0.1]*128],  # must match the embedding dimensionality you're using\n",
    "    metadatas=[{\n",
    "        \"video_file\": \"test_video.mp4\",\n",
    "        \"time_code\": 12.34,\n",
    "        \"frame_file\": \"frame_0.jpg\",\n",
    "        \"frame_type\": \"key\",\n",
    "        \"text\": \"sample transcript\"\n",
    "    }],\n",
    "    documents=[\"This is a test chunk of audio transcript.\"]\n",
    ")\n"
   ]
  },
  {
   "cell_type": "code",
   "execution_count": 12,
   "id": "c235d5b5-a200-437e-9752-bd010cab0fb2",
   "metadata": {},
   "outputs": [
    {
     "name": "stdout",
     "output_type": "stream",
     "text": [
      "{'ids': ['test-id-1'], 'embeddings': array([[0.1, 0.1, 0.1, 0.1, 0.1, 0.1, 0.1, 0.1, 0.1, 0.1, 0.1, 0.1, 0.1,\n",
      "        0.1, 0.1, 0.1, 0.1, 0.1, 0.1, 0.1, 0.1, 0.1, 0.1, 0.1, 0.1, 0.1,\n",
      "        0.1, 0.1, 0.1, 0.1, 0.1, 0.1, 0.1, 0.1, 0.1, 0.1, 0.1, 0.1, 0.1,\n",
      "        0.1, 0.1, 0.1, 0.1, 0.1, 0.1, 0.1, 0.1, 0.1, 0.1, 0.1, 0.1, 0.1,\n",
      "        0.1, 0.1, 0.1, 0.1, 0.1, 0.1, 0.1, 0.1, 0.1, 0.1, 0.1, 0.1, 0.1,\n",
      "        0.1, 0.1, 0.1, 0.1, 0.1, 0.1, 0.1, 0.1, 0.1, 0.1, 0.1, 0.1, 0.1,\n",
      "        0.1, 0.1, 0.1, 0.1, 0.1, 0.1, 0.1, 0.1, 0.1, 0.1, 0.1, 0.1, 0.1,\n",
      "        0.1, 0.1, 0.1, 0.1, 0.1, 0.1, 0.1, 0.1, 0.1, 0.1, 0.1, 0.1, 0.1,\n",
      "        0.1, 0.1, 0.1, 0.1, 0.1, 0.1, 0.1, 0.1, 0.1, 0.1, 0.1, 0.1, 0.1,\n",
      "        0.1, 0.1, 0.1, 0.1, 0.1, 0.1, 0.1, 0.1, 0.1, 0.1, 0.1]]), 'documents': ['This is a test chunk of audio transcript.'], 'uris': None, 'included': ['metadatas', 'documents', 'embeddings'], 'data': None, 'metadatas': [{'frame_file': 'frame_0.jpg', 'time_code': 12.34, 'frame_type': 'key', 'video_file': 'test_video.mp4', 'text': 'sample transcript'}]}\n"
     ]
    }
   ],
   "source": [
    "peeked = collection.peek()\n",
    "print(peeked)"
   ]
  },
  {
   "cell_type": "code",
   "execution_count": 13,
   "id": "bac98abb-ee66-4164-b8c4-027047da9141",
   "metadata": {},
   "outputs": [],
   "source": [
    "collection.delete(ids=[\"test-id-1\"])"
   ]
  },
  {
   "cell_type": "code",
   "execution_count": 14,
   "id": "bc1711c6-849e-4583-8e8e-482978349d0a",
   "metadata": {},
   "outputs": [
    {
     "name": "stdout",
     "output_type": "stream",
     "text": [
      "{'ids': [], 'embeddings': array([], dtype=float64), 'documents': [], 'uris': None, 'included': ['metadatas', 'documents', 'embeddings'], 'data': None, 'metadatas': []}\n"
     ]
    }
   ],
   "source": [
    "peeked = collection.peek()\n",
    "print(peeked)"
   ]
  },
  {
   "cell_type": "code",
   "execution_count": null,
   "id": "462684b6-a527-479a-9696-27ebc3de0e36",
   "metadata": {},
   "outputs": [],
   "source": []
  }
 ],
 "metadata": {
  "kernelspec": {
   "display_name": "Python 3 (ipykernel)",
   "language": "python",
   "name": "python3"
  },
  "language_info": {
   "codemirror_mode": {
    "name": "ipython",
    "version": 3
   },
   "file_extension": ".py",
   "mimetype": "text/x-python",
   "name": "python",
   "nbconvert_exporter": "python",
   "pygments_lexer": "ipython3",
   "version": "3.11.9"
  }
 },
 "nbformat": 4,
 "nbformat_minor": 5
}
